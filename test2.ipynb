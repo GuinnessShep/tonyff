{
  "nbformat": 4,
  "nbformat_minor": 0,
  "metadata": {
    "colab": {
      "provenance": [],
      "machine_shape": "hm",
      "gpuType": "T4",
      "collapsed_sections": [
        "klzSfQPfwSNV"
      ],
      "toc_visible": true,
      "authorship_tag": "ABX9TyMwHI0LrjrXrKRqQ++gjwgR",
      "include_colab_link": true
    },
    "kernelspec": {
      "name": "python3",
      "display_name": "Python 3"
    },
    "language_info": {
      "name": "python"
    },
    "accelerator": "GPU"
  },
  "cells": [
    {
      "cell_type": "markdown",
      "metadata": {
        "id": "view-in-github",
        "colab_type": "text"
      },
      "source": [
        " \"Open"
      ]
    },
    {
      "cell_type": "markdown",
      "source": [
        "##One picture, one video, one-click face change!\n",
        "\n",
        "\n",
        "Based on a script from the [roop](https://github.com/s0md3v/roop) project, you can change faces with pictures or videos. You can customize the parameters. \n",
        "\n",
        "Features: It's fast and convenient, nothing else.\n",
        "\n",
        "If you want high-quality face-changing, I still recommend DeepFaclab [tutorial](https://www.deepfaker.xyz/)\n",
        "\n",
        "The script is for learning and research only, please do not use it for any illegal purposes!\n",
        "\n",
        "Usage tutorial: https://www.tonyistark.com/1240.html \n",
        "Offline version: https://www.tonyistark.com/1311.html\n",
        "\n",
        "Public account: Tony is not Tucker\n",
        "Blog: [tonyistark.com](https://www.tonyistark.com/)"
      ],
      "metadata": {
        "id": "glwNVbldZ1Id"
      }
    },
    {
      "cell_type": "code",
      "execution_count": null,
      "metadata": {
        "id": "ZqdQ95WTKCSQ",
        "cellView": "form"
      },
      "outputs": [],
      "source": [
        "#@title 1.Clone source code\n",
        "!git clone https://github.com/s0md3v/roop.git\n",
        "!git clone https://github.com/dream80/roop_colab.git\n"
      ]
    },
    {
      "cell_type": "code",
      "source": [
        "#@title 2. Enter the project\n",
        "%cd /content/roop\n",
        "\n",
        "Version = \"v1.3.2\" #@param [\"v1.3.0\",\"v1.3.1\",\"v1.3.2\"]\n",
        "\n",
        "vdict = {\n",
        " \"v1.3.0\": \"142284916a5448acdf1a7fdca56d01c5aecafdad\",\n",
        " \"v1.3.1\": \"e0642702f388ea16089a1d4a929728fa69457d60\",\n",
        " \"v1.3.2\": \"c2d1feb17a9c51061b52cae5897136528f3b80cc\",\n",
        "}\n",
        "\n",
        "commit=vdict.get(Version, \"Invalid Version\")\n",
        "\n",
        "vcmd= f\"checkout {commit}\"\n",
        "\n",
        "\n",
        "!git $vcmd"
      ],
      "metadata": {
        "id": "FnSwYDX5K1P2",
        "cellView": "form"
      },
      "execution_count": null,
      "outputs": []
    },
    {
      "cell_type": "code",
      "source": [
        "#@title 3. Install dependencies\n",
        "#Don't worry if there is a red warning!\n",
        "\n",
        "\n",
        "!pip install -r requirements.txt\n",
        "\n",
        "\n",
        "#!pip install onnxruntime-gpu==1.15.0"
      ],
      "metadata": {
        "id": "f6urrvLGKqcU",
        "cellView": "form"
      },
      "execution_count": null,
      "outputs": []
    },
    {
      "cell_type": "code",
      "source": [
        "#@title 4. Prepare materials\n",
        "source = \"/content/roop_colab/1.jpg\" #@param {type:\"string\"}\n",
        "target = \"/content/roop_colab/2.mp4\" #@param {type:\"string\"}\n",
        "output = \"/content/roop_colab/out.mp4\" #@param {type:\"string\"}"
      ],
      "metadata": {
        "cellView": "form",
        "id": "JXUkjpNpz2pc"
      },
      "execution_count": 4,
      "outputs": []
    },
    {
      "cell_type": "markdown",
      "source": [
        "source: source material path, including pictures of faces\n",
        "\n",
        "target: target image or video path, also including human face\n",
        "\n",
        "output: output path, if target is a picture, change it to the picture suffix here\n"
      ],
      "metadata": {
        "id": "vW_Ovjjq8Qv8"
      }
    },
    {
      "cell_type": "code",
      "source": [
        "#@title 5.Start changing faces\n",
        "\n",
        "Device = \"cuda\" #@param [\"cuda\", \"cpu\"]\n",
        "\n",
        "Processor = \"face_swapper face_enhancer\" #@param [\"face_swapper face_enhancer\", \"face_swapper\",\"face_enhancer\"]\n",
        "\n",
        "VideoEncoder = \"libx264\" #@param ['libx264', 'libx265', 'libvpx-vp9', 'h264_nvenc', 'hevc_nvenc']\n",
        "\n",
        "VideoQuality = \"35\" #@param {type:\"string\"}\n",
        "\n",
        "TempFormat = \"jpg\" #@param [\"jpg\", \"png\"]\n",
        "\n",
        "TempQuality = \"0\" #@param {type:\"string\"}\n",
        "\n",
        "\n",
        "KeepFPS = True #@param {type:\"boolean\"}\n",
        "SkipAudio = False #@param {type:\"boolean\"}\n",
        "KeepFrames = False #@param {type:\"boolean\"}\n",
        "ManyFaces = False #@param {type:\"boolean\"}\n",
        "\n",
        "\n",
        "KeepFPS =\"--keep-fps\" if KeepFPS==True else \"\"\n",
        "SkipAudio =\"--skip-audio\" if SkipAudio==True else \"\"\n",
        "KeepFrames =\"--keep-frames\" if KeepFrames==True else \"\"\n",
        "ManyFaces =\"--many-faces\" if ManyFaces==True else \"\"\n",
        "\n",
        "\n",
        "\n",
        "cmd = f\"run.py --execution-provider {Device} -s {source} -t {target} -o {output} --frame-processor {Processor} --output-video-encoder {VideoEncoder} --output-video-quality {VideoQuality} {KeepFPS} {SkipAudio} {KeepFrames} {ManyFaces} --temp-frame-format {TempFormat} --temp-frame-quality {TempQuality}\"\n",
        "print(\"cmd:\"+cmd)\n",
        "\n",
        "\n",
        "!wget https://github.com/dream80/roop_colab/releases/download/v0.0.1/inswapper_128.onnx\n",
        "!mkdir models\n",
        "!mv inswapper_128.onnx models/\n",
        "\n",
        "!wget https://github.com/TencentARC/GFPGAN/releases/download/v1.3.4/GFPGANv1.4.pth\n",
        "!mv GFPGANv1.4.pth models/\n",
        "\n",
        "!python $cmd\n"
      ],
      "metadata": {
        "id": "cMJi9bI3LUyX",
        "cellView": "form"
      },
      "execution_count": 6,
      "outputs": []
    },
    {
      "cell_type": "markdown",
      "source": [
        "Device: If you select CUDA, you will use the GPU. If you select CPU, you will use the CPU. If you run out of GPU quota, you can use the CPU to increase it. Or open Pro \n",
        "\n",
        "Precessor: Choose face replacement or face restoration. Both are enabled by default. You can also use one function separately. \n",
        "\n",
        "VideoEncoder: Video encoder selection, generally libx264 is used. \n",
        "\n",
        "VideoQuality: video quality, default 35, value range 0-100 \n",
        "\n",
        "TempFormat: cache frame format, can be jpg or png\n",
        "\n",
        "TempQuality: video quality, default 0, value range 0-100\n",
        "\n",
        "KeepFPS: Keep frame rate constant\n",
        "\n",
        "SkipAudio: Discard audio track\n",
        "\n",
        "KeepFrames: Keep the framed pictures\n",
        "\n",
        "ManyFaces: Replace all faces"
      ],
      "metadata": {
        "id": "iOOzIywkxw9o"
      }
    },
    {
      "cell_type": "markdown",
      "source": [
        "#Additional explanation\n",
        "\n",
        "\n"
      ],
      "metadata": {
        "id": "P_cIVG84cTX3"
      }
    },
    {
      "cell_type": "markdown",
      "source": [
        "\n",
        "## Where are the video files? \n",
        "\n",
        "The video after successful face replacement is saved in the roop_colab file\n"
      ],
      "metadata": {
        "id": "O8qkUHNNw8-z"
      }
    },
    {
      "cell_type": "markdown",
      "source": [
        "## How to use your own materials? \n",
        "\n",
        "If you want to replace pictures and videos, just right-click on the file management on the left to upload, and then change the name. \n",
        "The material files are all in the roop_colab file\n",
        "1.jpg: face-changing picture\n",
        "2.mp4: Face-changing video\n",
        "out.mp4: It is the video after face replacement\n",
        "\n",
        "Click on the file on the left, find MP4, right-click to download!\n",
        "\n"
      ],
      "metadata": {
        "id": "pl3m7Ymmw3A8"
      }
    },
    {
      "cell_type": "markdown",
      "source": [
        "## Remove NSFW seal\n",
        "\n",
        "Not much to say, the tips are all here\n",
        "MAX_PROBABILITY = 1\n"
      ],
      "metadata": {
        "id": "kUXiEHjCxMpt"
      }
    },
    {
      "cell_type": "markdown",
      "source": [
        "\n",
        "## Large file processing\n",
        "\n",
        "If the file is relatively large, it will be difficult to upload it directly on Colab. You can first upload it to Google Cloud Disk. Then just mount the cloud disk. Just modify the addresses of the pictures and videos in step 5. Mount Google Disk You can also point the output file directly to the cloud disk later.\n",
        "\n",
        "If you need to use Google Cloud Disk files, you can click this script to mount the cloud disk.\n",
        "\n",
        "from google.colab import drive \n",
        "drive.mount('/content/drive')"
      ],
      "metadata": {
        "id": "klzSfQPfwSNV"
      }
    }
  ]
}
