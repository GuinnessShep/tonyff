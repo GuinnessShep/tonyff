{
   "nbformat": 4,
   "nbformat_minor": 0,
   "metadata": {
     "colab": {
       "provenance": [],
       "machine_shape": "hm",
       "gpuType": "T4",
       "collapsed_sections": [
         "klzSfQPfwSNV"
       ],
       "toc_visible": true,
       "authorship_tag": "ABX9TyMwHI0LrjrXrKRqQ++gjwgR",
       "include_colab_link": true
     },
     "kernelspec": {
       "name": "python3",
       "display_name": "Python 3"
     },
     "language_info": {
       "name": "python"
     },
     "accelerator": "GPU"
   },
   "cells": [
     {
       "cell_type": "markdown",
       "metadata": {
         "id": "view-in-github",
         "colab_type": "text"
       },
       "source": [
         "<a href=\"https://colab.research.google.com/github/dream80/roop_colab/blob/main/roop_v1_3.ipynb\" target=\"_parent\"><img src=\"https: //colab.research.google.com/assets/colab-badge.svg\" alt=\"Open In Colab\"/></a>"
       ]
     },
     {
       "cell_type": "markdown",
       "source": [
         "##One picture, one video, one-click face change!\n",
         "\n",
         "\n",
         "Based on a script from the [roop](https://github.com/s0md3v/roop) project, you can change faces with pictures or videos. You can customize the parameters. \n",
         "\n",
         "Features: It's fast and convenient, nothing else.\n",
         "\n",
         "If you want high-quality face-changing, I still recommend DeepFaclab [tutorial](https://www.deepfaker.xyz/)\n",
         "\n",
         "The script is for learning and research only, please do not use it for any illegal purposes!\n",
         "\n",
         "Usage tutorial: https://www.tonyistark.com/1240.html \n",
         "Offline version: https://www.tonyistark.com/1311.html\n",
         "\n",
         "Public account: Tony is not Tucker\n",
         "Blog: [tonyistark.com](https://www.tonyistark.com/)"
       ],
       "metadata": {
         "id": "glwNVbldZ1Id"
       }
     },
     {
       "cell_type": "code",
       "execution_count": null,
       "metadata": {
         "id": "ZqdQ95WTKCSQ",
         "cellView": "form"
       },
       "outputs": [],
       "source": [
         "#@title 1.Clone source code\n",
         "!git clone https://github.com/s0md3v/roop.git\n",
         "!git clone https://github.com/dream80/roop_colab.git\n"
       ]
     },
     {
       "cell_type": "code",
       "source": [
         "#@title 2. Enter the project\n",
         "%cd /content/roop\n",
         "\n",
         "Version = \"v1.3.2\" #@param [\"v1.3.0\",\"v1.3.1\",\"v1.3.2\"]\n",
         "\n",
         "vdict = {\n",
         " \"v1.3.0\": \"142284916a5448acdf1a7fdca56d01c5aecafdad\",\n",
         " \"v1.3.1\": \"e0642702f388ea16089a1d4a929728fa69457d60\",\n",
         " \"v1.3.2\": \"c2d1feb17a9c51061b52cae5897136528f3b80cc\",\n",
         "}\n",
         "\n",
         "commit=vdict.get(Version, \"Invalid Version\")\n",
         "\n",
         "vcmd= f\"checkout {commit}\"\n",
         "\n",
         "\n",
         "!git $vcmd"
       ],
